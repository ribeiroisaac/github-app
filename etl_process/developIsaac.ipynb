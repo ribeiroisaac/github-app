{
 "cells": [
  {
   "cell_type": "markdown",
   "id": "b6bfe368",
   "metadata": {},
   "source": [
    "# DEVELOPING ISAAC RIBEIRO"
   ]
  },
  {
   "cell_type": "markdown",
   "id": "3a2d23fa",
   "metadata": {},
   "source": [
    "### Primeiras bibliotecas"
   ]
  },
  {
   "cell_type": "code",
   "execution_count": 33,
   "id": "1905c6f3",
   "metadata": {
    "scrolled": false
   },
   "outputs": [
    {
     "name": "stdout",
     "output_type": "stream",
     "text": [
      "['1995-2000', '2001-2010', '2011-2020', '2021-2030', 'ESRI_MAPINFO_SHEET']\n"
     ]
    }
   ],
   "source": [
    "import pandas as pd\n",
    "import os\n",
    "import csv\n",
    "import re\n",
    "os.getcwd()\n",
    "file='ferroviario.xls'\n",
    "data=pd.ExcelFile(file)\n",
    "print(data.sheet_names) "
   ]
  },
  {
   "cell_type": "markdown",
   "id": "59330cd3",
   "metadata": {},
   "source": [
    "## Escrita de Colunas do CSV"
   ]
  },
  {
   "cell_type": "code",
   "execution_count": 34,
   "id": "45d8044a",
   "metadata": {},
   "outputs": [],
   "source": [
    "with open('datasetFerrov.csv','w',newline='') as f:\n",
    "    writer=csv.writer(f)\n",
    "    writer.writerow(['ramal','estacao','ano','passageiros'])\n"
   ]
  },
  {
   "cell_type": "markdown",
   "id": "f70aa378",
   "metadata": {},
   "source": [
    "## Leitura e Escrita das planilhas"
   ]
  },
  {
   "cell_type": "markdown",
   "id": "45cd96f6",
   "metadata": {},
   "source": [
    "#### Planilha 1995-2000"
   ]
  },
  {
   "cell_type": "code",
   "execution_count": 35,
   "id": "e1b1bce8",
   "metadata": {},
   "outputs": [],
   "source": [
    "#Abrindo Planilha\n",
    "    #'Header' pulando 11 linhas, \n",
    "    #'UseCols' faz com que colunas C e D não sejam trazidas\n",
    "    #'Skiprows' desconsidera linhas de observação da planilha\n",
    "arquivo=pd.read_excel(\n",
    "    'ferroviario.xls', \n",
    "    sheet_name='1995-2000', \n",
    "    header=(10),\n",
    "    names=['Ramal','Estação','1995','1996','1997','1998','1999','2000'],\n",
    "    usecols=(\"A:B, E:J\"),\n",
    "    skiprows=range(105,1000)\n",
    ")\n",
    "#Declaração de Variável para Auxílio na designação do Ramal durante Iteração.\n",
    "ramal_inicial='Deodoro'\n",
    "ramal=ramal_inicial\n",
    "#Iteração percorrendo as 95 linhas trazidas pelo método \"read_excel\".\n",
    "for i in range(0,94,1):\n",
    "\n",
    "    #Das 95 linhas, faz-se verificação para evitar uso de linhas que separam os ramais, no Dataset Original\n",
    "    if not (pd.isna(arquivo.iloc[i,1]) or \"Total do Subsistema\" in arquivo.iloc[i,1]):\n",
    "\n",
    "        #Verificação para Alterar a variável Ramal        \n",
    "        if pd.notnull(arquivo[\"Ramal\"])[i]==True:\n",
    "            ramal=arquivo.iloc[i,0]\n",
    "            if(re.search(\"[(]\", ramal)):\n",
    "                posicao_parentese=(re.search(\"[(]\", ramal)).span()[0]\n",
    "                ramal = ramal[0:posicao_parentese]\n",
    "\n",
    "        #Última iteração para extração de valores que irão para Dataset Final\n",
    "        for j in range(2,8,1):\n",
    "            estacao=arquivo.iloc[i,1]\n",
    "            if(re.search(\"[(]\", estacao)):\n",
    "                posicao_parentese=(re.search(\"[(]\", estacao)).span()[0]\n",
    "                estacao = estacao[0:posicao_parentese]\n",
    "            passageiros=arquivo.iloc[i,j]\n",
    "            if passageiros != 'nan':\n",
    "                with open('datasetFerrov.csv','a',newline='', encoding='utf-8') as f:\n",
    "                    writer=csv.writer(f)\n",
    "                    writer.writerow([ramal,estacao,(1993+j),passageiros])"
   ]
  },
  {
   "cell_type": "markdown",
   "id": "1dcc1990",
   "metadata": {},
   "source": [
    "#### Planilha 2001-2010"
   ]
  },
  {
   "cell_type": "code",
   "execution_count": 36,
   "id": "865acb52",
   "metadata": {
    "scrolled": true
   },
   "outputs": [],
   "source": [
    "#Abrindo Planilha\n",
    "    #'Header' pulando 11 linhas, \n",
    "    #'UseCols' faz com que colunas C e D não sejam trazidas\n",
    "    #'Skiprows' desconsidera linhas de observação da planilha\n",
    "arquivo=pd.read_excel(\n",
    "    'ferroviario.xls', \n",
    "    sheet_name='2001-2010', \n",
    "    header=(10),\n",
    "    names=['Ramal','Estação','2001','2002','2003','2004','2005','2006','2007','2008','2009','2010'],\n",
    "    usecols=(\"A:B, E:N\"),\n",
    "    skiprows=range(106,2000)\n",
    ")\n",
    "#Declaração de Variável para Auxílio na designação do Ramal durante Iteração.\n",
    "ramal_inicial='Deodoro'\n",
    "ramal=ramal_inicial\n",
    "#Iteração percorrendo as 95 linhas trazidas pelo método \"read_excel\".\n",
    "for i in range(0,95,1):\n",
    "\n",
    "    #Das 97 linhas, faz-se verificação para evitar uso de linhas que separam os ramais, no Dataset Original\n",
    "    if not (pd.isna(arquivo.iloc[i,1]) or \"Total do Subsistema\" in arquivo.iloc[i,1]):\n",
    "\n",
    "\n",
    "#        #Verificação para Alterar a variável Ramal        \n",
    "        if pd.notnull(arquivo[\"Ramal\"])[i]==True:\n",
    "            ramal=arquivo.iloc[i,0]\n",
    "            if(re.search(\"[(]\", ramal)):\n",
    "                posicao_parentese=(re.search(\"[(]\", ramal)).span()[0]\n",
    "                ramal = ramal[0:posicao_parentese]\n",
    "                \n",
    "        #Última iteração para extração de valores que irão para Dataset Final\n",
    "        for j in range(2,12,1):\n",
    "            estacao=arquivo.iloc[i,1]\n",
    "            if(re.search(\"[(]\", estacao)):\n",
    "                posicao_parentese=(re.search(\"[(]\", estacao)).span()[0]\n",
    "                estacao = estacao[0:posicao_parentese]\n",
    "            passageiros=arquivo.iloc[i,j]\n",
    "            if passageiros != 'nan':\n",
    "                with open('datasetFerrov.csv','a',newline='', encoding='utf-8') as f:\n",
    "                    writer=csv.writer(f)\n",
    "                    writer.writerow([ramal,estacao,(1999+j),passageiros])"
   ]
  },
  {
   "cell_type": "markdown",
   "id": "e35116d9",
   "metadata": {},
   "source": [
    "#### Planilha 2011-2020"
   ]
  },
  {
   "cell_type": "code",
   "execution_count": 37,
   "id": "66c33c20",
   "metadata": {
    "scrolled": true
   },
   "outputs": [],
   "source": [
    "#Abrindo Planilha\n",
    "    #'Header' pulando 11 linhas, \n",
    "    #'UseCols' faz com que colunas C e D não sejam trazidas\n",
    "    #'Skiprows' desconsidera linhas de observação da planilha\n",
    "arquivo=pd.read_excel(\n",
    "    'ferroviario.xls', \n",
    "    sheet_name='2011-2020', \n",
    "    header=(10),\n",
    "    names=['Ramal','Estação','2011','2012','2013','2014','2015','2016','2017','2018','2019','2020'],\n",
    "    usecols=(\"A:B, E:N\"),\n",
    "    skiprows=range(107,2000)\n",
    ")\n",
    "#Declaração de Variável para Auxílio na designação do Ramal durante Iteração.\n",
    "ramal_inicial='Deodoro'\n",
    "ramal=ramal_inicial\n",
    "\n",
    "#Iteração percorrendo as 97 linhas trazidas pelo método \"read_excel\".\n",
    "for i in range(0,96,1):\n",
    "\n",
    "    #Das 97 linhas, faz-se verificação para evitar uso de linhas que separam os ramais, no Dataset Original\n",
    "    if not (pd.isna(arquivo.iloc[i,1]) or \"Total do Subsistema\" in arquivo.iloc[i,1]):\n",
    "\n",
    "\n",
    "        #Verificação para Alterar a variável Ramal        \n",
    "        if pd.notnull(arquivo[\"Ramal\"])[i]==True:\n",
    "            ramal=arquivo.iloc[i,0]\n",
    "            if(re.search(\"[(]\", ramal)):\n",
    "                posicao_parentese=(re.search(\"[(]\", ramal)).span()[0]\n",
    "                ramal = ramal[0:posicao_parentese]\n",
    "                \n",
    "        #Última iteração para extração de valores que irão para Dataset Final\n",
    "        for j in range(2,12,1):\n",
    "            estacao=arquivo.iloc[i,1]\n",
    "            if(re.search(\"[(]\", estacao)):\n",
    "                posicao_parentese=(re.search(\"[(]\", estacao)).span()[0]\n",
    "                estacao = estacao[0:posicao_parentese]            \n",
    "            passageiros=arquivo.iloc[i,j]\n",
    "            if passageiros != 'nan':\n",
    "                with open('datasetFerrov.csv','a',newline='', encoding='utf-8') as f:\n",
    "                    writer=csv.writer(f)\n",
    "                    writer.writerow([ramal,estacao,(2009+j),passageiros])"
   ]
  },
  {
   "cell_type": "markdown",
   "id": "c1a1a00b",
   "metadata": {},
   "source": [
    "#### Planilha 2021-2030"
   ]
  },
  {
   "cell_type": "code",
   "execution_count": 38,
   "id": "ac8c54a9",
   "metadata": {
    "scrolled": true
   },
   "outputs": [],
   "source": [
    "#Abrindo Planilha\n",
    "    #'Header' pulando 11 linhas, \n",
    "    #'UseCols' faz com que colunas C e D não sejam trazidas\n",
    "    #'Skiprows' desconsidera linhas de observação da planilha\n",
    "arquivo=pd.read_excel(\n",
    "    'ferroviario.xls', \n",
    "    sheet_name='2021-2030', \n",
    "    header=(10),\n",
    "    names=['Ramal','Estação','2021','2022','2023','2024','2025','2026','2027','2028','2029','2030'],\n",
    "    usecols=(\"A:B, E:N\"),\n",
    "    skiprows=range(107,2000)\n",
    ")\n",
    "#Declaração de Variável para Auxílio na designação do Ramal durante Iteração.\n",
    "ramal_inicial='Deodoro'\n",
    "ramal=ramal_inicial\n",
    "\n",
    "#Iteração percorrendo as 97 linhas trazidas pelo método \"read_excel\".\n",
    "for i in range(0,96,1):\n",
    "\n",
    "    #Das 97 linhas, faz-se verificação para evitar uso de linhas que separam os ramais, no Dataset Original\n",
    "    if not (pd.isna(arquivo.iloc[i,1]) or \"Total do Subsistema\" in arquivo.iloc[i,1]):\n",
    "\n",
    "        #Verificação para Alterar a variável Ramal        \n",
    "        if pd.notnull(arquivo[\"Ramal\"])[i]==True:\n",
    "            ramal=arquivo.iloc[i,0]\n",
    "            if(re.search(\"[(]\", ramal)):\n",
    "                posicao_parentese=(re.search(\"[(]\", ramal)).span()[0]\n",
    "                ramal = ramal[0:posicao_parentese]\n",
    "                \n",
    "        #Última iteração para extração de valores que irão para Dataset Final\n",
    "        for j in range(2,4,1):\n",
    "            estacao=arquivo.iloc[i,1]\n",
    "            if(re.search(\"[(]\", estacao)):\n",
    "                posicao_parentese=(re.search(\"[(]\", estacao)).span()[0]\n",
    "                estacao = estacao[0:posicao_parentese]            \n",
    "            passageiros=arquivo.iloc[i,j]\n",
    "            if passageiros != 'nan':\n",
    "                with open('datasetFerrov.csv','a',newline='', encoding='utf-8') as f:\n",
    "                    writer=csv.writer(f)\n",
    "                    writer.writerow([ramal,estacao,(2019+j),passageiros])"
   ]
  }
 ],
 "metadata": {
  "kernelspec": {
   "display_name": "Python 3",
   "language": "python",
   "name": "python3"
  },
  "language_info": {
   "codemirror_mode": {
    "name": "ipython",
    "version": 3
   },
   "file_extension": ".py",
   "mimetype": "text/x-python",
   "name": "python",
   "nbconvert_exporter": "python",
   "pygments_lexer": "ipython3",
   "version": "3.8.8"
  }
 },
 "nbformat": 4,
 "nbformat_minor": 5
}
